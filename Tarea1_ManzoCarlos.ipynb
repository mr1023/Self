{
 "cells": [
  {
   "cell_type": "markdown",
   "id": "novel-journey",
   "metadata": {},
   "source": [
    "1."
   ]
  },
  {
   "cell_type": "code",
   "execution_count": 4,
   "id": "promising-fantasy",
   "metadata": {
    "scrolled": true
   },
   "outputs": [
    {
     "name": "stdout",
     "output_type": "stream",
     "text": [
      "1.5\n",
      "7.0685775 4\n"
     ]
    }
   ],
   "source": [
    "pi = 3.14159 \n",
    "diametro = 3\n",
    "\n",
    "radio = diametro / 2\n",
    "\n",
    "print(radio)\n",
    "\n",
    "area = pi * (radio ** 2)\n",
    "\n",
    "print(area)"
   ]
  },
  {
   "cell_type": "markdown",
   "id": "dirty-greeting",
   "metadata": {},
   "source": [
    "2."
   ]
  },
  {
   "cell_type": "code",
   "execution_count": 8,
   "id": "increased-conversion",
   "metadata": {},
   "outputs": [
    {
     "name": "stdout",
     "output_type": "stream",
     "text": [
      "[3, 2, 1]\n",
      "[1, 2, 3]\n"
     ]
    }
   ],
   "source": [
    "a = [1, 2, 3]\n",
    "b = [3, 2, 1]\n",
    "\n",
    "a, b = b , a\n",
    "\n",
    "print(a)\n",
    "print(b)"
   ]
  },
  {
   "cell_type": "markdown",
   "id": "completed-chinese",
   "metadata": {},
   "source": [
    "3.a."
   ]
  },
  {
   "cell_type": "code",
   "execution_count": 11,
   "id": "nutritional-vault",
   "metadata": {},
   "outputs": [
    {
     "data": {
      "text/plain": [
       "1"
      ]
     },
     "execution_count": 11,
     "metadata": {},
     "output_type": "execute_result"
    }
   ],
   "source": [
    "(5 - 3) // 2"
   ]
  },
  {
   "cell_type": "markdown",
   "id": "pleased-movement",
   "metadata": {},
   "source": [
    "3.b."
   ]
  },
  {
   "cell_type": "code",
   "execution_count": 12,
   "id": "growing-minimum",
   "metadata": {},
   "outputs": [
    {
     "data": {
      "text/plain": [
       "0"
      ]
     },
     "execution_count": 12,
     "metadata": {},
     "output_type": "execute_result"
    }
   ],
   "source": [
    "8 - (3 * 2) - (1 + 1)"
   ]
  },
  {
   "cell_type": "markdown",
   "id": "interior-humidity",
   "metadata": {},
   "source": [
    "4."
   ]
  },
  {
   "cell_type": "code",
   "execution_count": 35,
   "id": "complete-portal",
   "metadata": {},
   "outputs": [
    {
     "name": "stdout",
     "output_type": "stream",
     "text": [
      "sobran 1 dulces\n"
     ]
    }
   ],
   "source": [
    "# Variables que representan el número de dulces juntados por Juan, María y Alberto\n",
    "dulces_juan = 121\n",
    "dulces_maria = 77\n",
    "dulces_alberto = 109\n",
    "\n",
    "# Escriba en el lado derecho una expresión aritmética de los dulces que deben ser tirados\n",
    "dulces_sobrantes = (dulces_juan + dulces_maria + dulces_alberto)%3\n",
    "\n",
    "print(\"sobran \"+str(dulces_sobrantes)+\" dulces\")"
   ]
  },
  {
   "cell_type": "markdown",
   "id": "purple-today",
   "metadata": {},
   "source": [
    "5."
   ]
  },
  {
   "cell_type": "code",
   "execution_count": 4,
   "id": "portuguese-winning",
   "metadata": {},
   "outputs": [
    {
     "name": "stdout",
     "output_type": "stream",
     "text": [
      "3.14\n"
     ]
    }
   ],
   "source": [
    "def redondear_a_dos_decimales(num):\n",
    "    return round(num,2)\n",
    "\n",
    "print(redondear_a_dos_decimales(3.14159))"
   ]
  },
  {
   "cell_type": "markdown",
   "id": "incredible-currency",
   "metadata": {},
   "source": [
    "6."
   ]
  },
  {
   "cell_type": "code",
   "execution_count": 5,
   "id": "simplified-gross",
   "metadata": {},
   "outputs": [
    {
     "name": "stdout",
     "output_type": "stream",
     "text": [
      "2300.0\n"
     ]
    }
   ],
   "source": [
    "print(round(2345.32, -2))"
   ]
  },
  {
   "cell_type": "markdown",
   "id": "lonely-darwin",
   "metadata": {},
   "source": [
    "7."
   ]
  },
  {
   "cell_type": "code",
   "execution_count": 36,
   "id": "declared-dollar",
   "metadata": {},
   "outputs": [],
   "source": [
    "def dulces_sobrantes(dulces_totales):\n",
    "    \"\"\"\n",
    "    Devuelve el número de dulces a distribuir entre el total de amigos.\n",
    "    Si no se asignan amigos, automáticamente se considerarán 3 amigos.\n",
    "\n",
    "    >>> dulces_sobrantes(91)\n",
    "    1\n",
    "    \"\"\"\n",
    "    amigos = input()\n",
    "    if amigos == \"\":\n",
    "        amigos = 3\n",
    "\n",
    "    buds = int(amigos)\n",
    "\n",
    "    if buds != 3:\n",
    "        dulces_totales / buds\n",
    "\n",
    "\n",
    "    return (\"amigos: \"+str(buds), \"dulces totales: \"+str(dulces_totales), \"dulces sobrantes: \"+str(dulces_totales%buds))"
   ]
  },
  {
   "cell_type": "code",
   "execution_count": 42,
   "id": "manual-literature",
   "metadata": {},
   "outputs": [
    {
     "name": "stdout",
     "output_type": "stream",
     "text": [
      "8\n"
     ]
    },
    {
     "data": {
      "text/plain": [
       "('amigos: 8', 'dulces totales: 231', 'dulces sobrantes: 7')"
      ]
     },
     "execution_count": 42,
     "metadata": {},
     "output_type": "execute_result"
    }
   ],
   "source": [
    "dulces_sobrantes(231)"
   ]
  },
  {
   "cell_type": "code",
   "execution_count": 43,
   "id": "terminal-immigration",
   "metadata": {},
   "outputs": [
    {
     "name": "stdout",
     "output_type": "stream",
     "text": [
      "\n"
     ]
    },
    {
     "data": {
      "text/plain": [
       "('amigos: 3', 'dulces totales: 231', 'dulces sobrantes: 0')"
      ]
     },
     "execution_count": 43,
     "metadata": {},
     "output_type": "execute_result"
    }
   ],
   "source": [
    "dulces_sobrantes(231)"
   ]
  },
  {
   "cell_type": "markdown",
   "id": "flush-wrestling",
   "metadata": {},
   "source": [
    "8.a.\n",
    "\n",
    "Desconozco si se pensaba incluir 2 redondeos (o sea 9 y 9999), por lo que los he planteado 4 formas en que interpreté el ejercicio."
   ]
  },
  {
   "cell_type": "code",
   "execution_count": 15,
   "id": "republican-timing",
   "metadata": {},
   "outputs": [
    {
     "name": "stdout",
     "output_type": "stream",
     "text": [
      "9\n",
      "9999\n",
      "99999\n",
      "10.0\n"
     ]
    }
   ],
   "source": [
    "print(redondear_a_dos_decimales(9)) #no tiene decimales por redondear, queda igual\n",
    "print(redondear_a_dos_decimales(9999)) #no tiene decimales por redondear, queda igual\n",
    "print(redondear_a_dos_decimales(99999)) #no tiene decimales por redondear, queda igual\n",
    "print(redondear_a_dos_decimales(9.9999)) #cambiando la \",\" por \".\" ya redondea según Python"
   ]
  },
  {
   "cell_type": "markdown",
   "id": "existing-filename",
   "metadata": {},
   "source": [
    "8.b.\n",
    "\n",
    "Solo faltaba una coma entre ambos 'abs'"
   ]
  },
  {
   "cell_type": "code",
   "execution_count": 16,
   "id": "israeli-regulation",
   "metadata": {},
   "outputs": [
    {
     "name": "stdout",
     "output_type": "stream",
     "text": [
      "5\n"
     ]
    }
   ],
   "source": [
    "x = -10\n",
    "y = 5\n",
    "abs_mas_pequeño = min(abs(x), abs(y))\n",
    "print(abs_mas_pequeño)"
   ]
  },
  {
   "cell_type": "markdown",
   "id": "chronic-meaning",
   "metadata": {},
   "source": [
    "8.c. \n",
    "\n",
    "Solo faltaba indexación del return."
   ]
  },
  {
   "cell_type": "code",
   "execution_count": 17,
   "id": "artificial-alfred",
   "metadata": {},
   "outputs": [
    {
     "name": "stdout",
     "output_type": "stream",
     "text": [
      "5\n"
     ]
    }
   ],
   "source": [
    "def f(x):\n",
    "    y = abs(x)\n",
    "    return y\n",
    "\n",
    "print(f(5))"
   ]
  },
  {
   "cell_type": "markdown",
   "id": "impaired-movie",
   "metadata": {},
   "source": [
    "9."
   ]
  },
  {
   "cell_type": "code",
   "execution_count": 40,
   "id": "creative-genome",
   "metadata": {},
   "outputs": [
    {
     "name": "stdout",
     "output_type": "stream",
     "text": [
      "(-1, 'negativo')\n",
      "(1, 'positivo')\n"
     ]
    }
   ],
   "source": [
    "def sign(num):\n",
    "    if num < 0:\n",
    "        s = -1\n",
    "        textSign = \"negativo\"\n",
    "    elif num == 0:\n",
    "        s = 0\n",
    "        textSign = \"cero\"\n",
    "    elif num > 0:\n",
    "        s = 1\n",
    "        textSign = \"positivo\"\n",
    "\n",
    "    return s, textSign\n",
    "\n",
    "print(sign(-23))\n",
    "print(sign(23))"
   ]
  },
  {
   "cell_type": "markdown",
   "id": "sealed-raise",
   "metadata": {},
   "source": [
    "10."
   ]
  },
  {
   "cell_type": "code",
   "execution_count": 39,
   "id": "pending-classification",
   "metadata": {},
   "outputs": [
    {
     "name": "stdout",
     "output_type": "stream",
     "text": [
      "False\n",
      "True\n"
     ]
    }
   ],
   "source": [
    "def es_negativo_conciso(num2):\n",
    "    return (num2 < 0)\n",
    "\n",
    "print(es_negativo_conciso(1023))\n",
    "print(es_negativo_conciso(-1023))"
   ]
  },
  {
   "cell_type": "markdown",
   "id": "fossil-scotland",
   "metadata": {},
   "source": [
    "11.a."
   ]
  },
  {
   "cell_type": "code",
   "execution_count": 45,
   "id": "continuing-format",
   "metadata": {},
   "outputs": [],
   "source": [
    "def todos_los_ingredientes(ketchup, mostaza, cebolla):\n",
    "    \"\"\"\n",
    "    Devuelve True si el cliente quiere todos los ingredientes, y False de lo contrario\n",
    "    \"\"\"\n",
    "    return ketchup and mostaza and cebolla"
   ]
  },
  {
   "cell_type": "code",
   "execution_count": 50,
   "id": "delayed-string",
   "metadata": {},
   "outputs": [
    {
     "name": "stdout",
     "output_type": "stream",
     "text": [
      "True\n",
      "False\n",
      "False\n",
      "False\n",
      "False\n",
      "False\n",
      "False\n",
      "False\n"
     ]
    }
   ],
   "source": [
    "print(todos_los_ingredientes(True,True,True))\n",
    "print(todos_los_ingredientes(True,False,True))\n",
    "print(todos_los_ingredientes(True,True,False))\n",
    "print(todos_los_ingredientes(True,False,False))\n",
    "print(todos_los_ingredientes(False,True,True))\n",
    "print(todos_los_ingredientes(False,True,False))\n",
    "print(todos_los_ingredientes(False,False,True))\n",
    "print(todos_los_ingredientes(False,False,False))"
   ]
  },
  {
   "cell_type": "markdown",
   "id": "imperial-given",
   "metadata": {},
   "source": [
    "11.b."
   ]
  },
  {
   "cell_type": "code",
   "execution_count": 48,
   "id": "favorite-blair",
   "metadata": {},
   "outputs": [],
   "source": [
    "def sin_ingredientes(ketchup, mostaza, cebolla):\n",
    "    \"\"\"\n",
    "    Devuelve True si el cliente no quiere ningún ingrediente, y False de lo contrario.\n",
    "    \"\"\"\n",
    "    return not ketchup and not mostaza and not cebolla"
   ]
  },
  {
   "cell_type": "code",
   "execution_count": 56,
   "id": "present-upper",
   "metadata": {},
   "outputs": [
    {
     "name": "stdout",
     "output_type": "stream",
     "text": [
      "False\n",
      "False\n",
      "False\n",
      "False\n",
      "False\n",
      "False\n",
      "False\n",
      "True\n"
     ]
    }
   ],
   "source": [
    "print(sin_ingredientes(True,True,True))\n",
    "print(sin_ingredientes(True,True,False))\n",
    "print(sin_ingredientes(True,False,True))\n",
    "print(sin_ingredientes(True,False,False))\n",
    "print(sin_ingredientes(False,True,True))\n",
    "print(sin_ingredientes(False,True,False))\n",
    "print(sin_ingredientes(False,False,True))\n",
    "print(sin_ingredientes(False,False,False))"
   ]
  },
  {
   "cell_type": "markdown",
   "id": "engaging-notice",
   "metadata": {},
   "source": [
    "11.c."
   ]
  },
  {
   "cell_type": "code",
   "execution_count": 54,
   "id": "clinical-saint",
   "metadata": {},
   "outputs": [],
   "source": [
    "def solo_un_aderezo(ketchup, mostaza, cebolla):\n",
    "    \"\"\"\n",
    "    Devuelve True si el cliente quiere ketchup o mostaza, pero no ambos.\n",
    "    \"\"\"\n",
    "    return (ketchup or mostaza) and not (ketchup and mostaza)"
   ]
  },
  {
   "cell_type": "code",
   "execution_count": 57,
   "id": "acknowledged-medicine",
   "metadata": {},
   "outputs": [
    {
     "name": "stdout",
     "output_type": "stream",
     "text": [
      "False\n",
      "False\n",
      "True\n",
      "True\n",
      "True\n",
      "True\n",
      "False\n",
      "False\n"
     ]
    }
   ],
   "source": [
    "print(solo_un_aderezo(True,True,True))\n",
    "print(solo_un_aderezo(True,True,False))\n",
    "print(solo_un_aderezo(True,False,True))\n",
    "print(solo_un_aderezo(True,False,False))\n",
    "print(solo_un_aderezo(False,True,True))\n",
    "print(solo_un_aderezo(False,True,False))\n",
    "print(solo_un_aderezo(False,False,True))\n",
    "print(solo_un_aderezo(False,False,False))"
   ]
  },
  {
   "cell_type": "markdown",
   "id": "binary-aruba",
   "metadata": {},
   "source": [
    "12."
   ]
  },
  {
   "cell_type": "code",
   "execution_count": 52,
   "id": "surface-programmer",
   "metadata": {},
   "outputs": [
    {
     "data": {
      "text/plain": [
       "0"
      ]
     },
     "execution_count": 52,
     "metadata": {},
     "output_type": "execute_result"
    }
   ],
   "source": [
    "int(False)"
   ]
  },
  {
   "cell_type": "code",
   "execution_count": 68,
   "id": "determined-natural",
   "metadata": {},
   "outputs": [],
   "source": [
    "def exactamente_un_ingrediente(ketchup, mostaza, cebolla):\n",
    "    \"\"\"\n",
    "    Devuelve True si el ciente quiere exactamente un ingrediente, False de lo contrario.\n",
    "    \"\"\"\n",
    "    return (ketchup+mostaza+cebolla==1)"
   ]
  },
  {
   "cell_type": "code",
   "execution_count": 69,
   "id": "listed-mongolia",
   "metadata": {},
   "outputs": [
    {
     "name": "stdout",
     "output_type": "stream",
     "text": [
      "False\n",
      "False\n",
      "False\n",
      "True\n",
      "False\n",
      "True\n",
      "True\n",
      "False\n"
     ]
    }
   ],
   "source": [
    "print(exactamente_un_ingrediente(True, True, True))\n",
    "print(exactamente_un_ingrediente(True, True, False))\n",
    "print(exactamente_un_ingrediente(True, False, True))\n",
    "print(exactamente_un_ingrediente(True, False, False))\n",
    "print(exactamente_un_ingrediente(False, True, True))\n",
    "print(exactamente_un_ingrediente(False, True, False))\n",
    "print(exactamente_un_ingrediente(False, False, True))\n",
    "print(exactamente_un_ingrediente(False, False, False))"
   ]
  },
  {
   "cell_type": "markdown",
   "id": "entertaining-stone",
   "metadata": {},
   "source": [
    "13."
   ]
  },
  {
   "cell_type": "code",
   "execution_count": 70,
   "id": "flush-monroe",
   "metadata": {},
   "outputs": [],
   "source": [
    "def segundo_elemento(L):\n",
    "    \"\"\"\n",
    "    Devuelve el segundo elemento de la lista dada. Si la lista no tiene \n",
    "    segundo elemento, devuelve None.\n",
    "    \n",
    "    >>> segundo_elemento([10, 4, 9, 10])\n",
    "    4\n",
    "    >>> segundo_elemento([5])\n",
    "    \n",
    "    \"\"\"\n",
    "    return L[1] if len(L)>=2 else None"
   ]
  },
  {
   "cell_type": "code",
   "execution_count": 71,
   "id": "standard-gross",
   "metadata": {},
   "outputs": [
    {
     "name": "stdout",
     "output_type": "stream",
     "text": [
      "4\n",
      "None\n"
     ]
    }
   ],
   "source": [
    "print(segundo_elemento([10,4,9,10]))\n",
    "print(segundo_elemento([5]))"
   ]
  },
  {
   "cell_type": "markdown",
   "id": "southern-saint",
   "metadata": {},
   "source": [
    "14."
   ]
  },
  {
   "cell_type": "code",
   "execution_count": 8,
   "id": "owned-architect",
   "metadata": {},
   "outputs": [],
   "source": [
    "def cuantos_negativos(lista):\n",
    "    \"\"\"\n",
    "    Devuelve la cantidad de números negativos en la lista dada.\n",
    "    \n",
    "    >>> cuantos_negativos([5, -1, -2, 0, 3])\n",
    "    2\n",
    "    \"\"\"\n",
    "    negs = len([i for i in lista if i < 0])\n",
    "    \n",
    "    return negs"
   ]
  },
  {
   "cell_type": "code",
   "execution_count": 9,
   "id": "combined-advisory",
   "metadata": {},
   "outputs": [
    {
     "data": {
      "text/plain": [
       "2"
      ]
     },
     "execution_count": 9,
     "metadata": {},
     "output_type": "execute_result"
    }
   ],
   "source": [
    "print(cuantos_negativos([5, -1, -2, 0, 3]))"
   ]
  },
  {
   "cell_type": "markdown",
   "id": "sporting-january",
   "metadata": {},
   "source": [
    "15."
   ]
  },
  {
   "cell_type": "code",
   "execution_count": 11,
   "id": "champion-capture",
   "metadata": {},
   "outputs": [],
   "source": [
    "def es_chida(nums):\n",
    "    \"\"\"\n",
    "    Devuelve True si la lista dada es chida. Una lista chida es aquella que\n",
    "    contiene al menos un número divisible por 7.\n",
    "\n",
    "    >>> es_chida([1, 14, 3, 8])\n",
    "    True\n",
    "    \"\"\"\n",
    "    for num in nums:\n",
    "        if num == 0: \n",
    "            return False\n",
    "        elif num%7 == 0:\n",
    "            return True\n",
    "    return False\n",
    "        "
   ]
  },
  {
   "cell_type": "code",
   "execution_count": 163,
   "id": "hindu-planner",
   "metadata": {},
   "outputs": [
    {
     "name": "stdout",
     "output_type": "stream",
     "text": [
      "True\n"
     ]
    }
   ],
   "source": [
    "print(es_chida([1,14,28,8]))"
   ]
  },
  {
   "cell_type": "code",
   "execution_count": 12,
   "id": "partial-cherry",
   "metadata": {},
   "outputs": [
    {
     "name": "stdout",
     "output_type": "stream",
     "text": [
      "True\n"
     ]
    }
   ],
   "source": [
    "print(es_chida([1,14,28,0]))"
   ]
  },
  {
   "cell_type": "markdown",
   "id": "northern-speed",
   "metadata": {},
   "source": [
    "16."
   ]
  },
  {
   "cell_type": "code",
   "execution_count": 204,
   "id": "reserved-boutique",
   "metadata": {},
   "outputs": [],
   "source": [
    "def cp_valido(cp):\n",
    "    \"\"\"\n",
    "    Devuelve True si el string dado es un código postal válido y es un\n",
    "    string de 5 dígitos.\n",
    "\n",
    "    >>> cp_valido('45017')\n",
    "    True\n",
    "    >>> cp_valido('450015')\n",
    "    False\n",
    "    >>> cp_valido('45a15')\n",
    "    False\n",
    "    \"\"\"\n",
    "        \n",
    "    return(cp.isdigit() and len(cp) == 5)"
   ]
  },
  {
   "cell_type": "code",
   "execution_count": 205,
   "id": "dangerous-relationship",
   "metadata": {},
   "outputs": [
    {
     "data": {
      "text/plain": [
       "True"
      ]
     },
     "execution_count": 205,
     "metadata": {},
     "output_type": "execute_result"
    }
   ],
   "source": [
    "cp_valido('45017')"
   ]
  },
  {
   "cell_type": "code",
   "execution_count": 206,
   "id": "architectural-shelf",
   "metadata": {},
   "outputs": [
    {
     "data": {
      "text/plain": [
       "False"
      ]
     },
     "execution_count": 206,
     "metadata": {},
     "output_type": "execute_result"
    }
   ],
   "source": [
    "cp_valido('450015')"
   ]
  },
  {
   "cell_type": "code",
   "execution_count": 207,
   "id": "likely-upset",
   "metadata": {},
   "outputs": [
    {
     "data": {
      "text/plain": [
       "False"
      ]
     },
     "execution_count": 207,
     "metadata": {},
     "output_type": "execute_result"
    }
   ],
   "source": [
    "cp_valido('45a15')"
   ]
  }
 ],
 "metadata": {
  "kernelspec": {
   "display_name": "Python 3",
   "language": "python",
   "name": "python3"
  },
  "language_info": {
   "codemirror_mode": {
    "name": "ipython",
    "version": 3
   },
   "file_extension": ".py",
   "mimetype": "text/x-python",
   "name": "python",
   "nbconvert_exporter": "python",
   "pygments_lexer": "ipython3",
   "version": "3.8.8"
  }
 },
 "nbformat": 4,
 "nbformat_minor": 5
}
